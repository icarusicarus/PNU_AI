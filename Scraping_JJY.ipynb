{
  "nbformat": 4,
  "nbformat_minor": 0,
  "metadata": {
    "colab": {
      "name": "Scraping.ipynb",
      "provenance": [],
      "include_colab_link": true
    },
    "kernelspec": {
      "name": "python3",
      "display_name": "Python 3"
    },
    "language_info": {
      "name": "python"
    }
  },
  "cells": [
    {
      "cell_type": "markdown",
      "metadata": {
        "id": "view-in-github",
        "colab_type": "text"
      },
      "source": [
        "<a href=\"https://colab.research.google.com/github/icaruswithoutwings/PNU_AI/blob/main/Scraping_JJY.ipynb\" target=\"_parent\"><img src=\"https://colab.research.google.com/assets/colab-badge.svg\" alt=\"Open In Colab\"/></a>"
      ]
    },
    {
      "cell_type": "markdown",
      "metadata": {
        "id": "4TflfuYmLvid"
      },
      "source": [
        "6팀\n",
        "\n",
        "주제: \n",
        "\n",
        "주제선정동기: \n",
        "\n",
        "수집자료: \n",
        "\n",
        "\n"
      ]
    },
    {
      "cell_type": "code",
      "metadata": {
        "id": "ktnvYG05aNFg"
      },
      "source": [
        "import requests\n",
        "from bs4 import BeautifulSoup as bs"
      ],
      "execution_count": 2,
      "outputs": []
    },
    {
      "cell_type": "code",
      "metadata": {
        "id": "x56aHK9OcNvi",
        "outputId": "0387d29c-da12-4544-d765-72b313debb02",
        "colab": {
          "base_uri": "https://localhost:8080/"
        }
      },
      "source": [
        "#kbs\n",
        "url = 'https://www.kbs.co.kr/programlist/'\n",
        "selector = '#content > div > div > div.sitemap-area > dl'\n",
        "html = bs(requests.get(url).text.replace(' ', ''), 'html.parser')\n",
        "print(html)\n",
        "\n",
        "ls = html.select(selector)\n",
        "\n",
        "programs = []\n",
        "\n",
        "for li in ls:\n",
        "  genre = li.find('dt').find('a').find('span').text\n",
        "  a = li.find('dt').find('a')\n",
        "  print(a)"
      ],
      "execution_count": 49,
      "outputs": [
        {
          "output_type": "stream",
          "text": [
            "<!DOCTYPE DOCTYPEhtml>\n",
            "\n",
            "<htmllang=\"ko\">\n",
            "<head>\n",
            "<metahttp-equiv=\"content-type\"content=\"text html;charset='UTF-8\"/'>\n",
            "<metahttp-equiv=\"x-ua-compatible\"content=\"ie=edge\"></metahttp-equiv=\"x-ua-compatible\"content=\"ie=edge\">\n",
            "<metaname=\"viewport\"content=\"width=device-width,initial-scale=1.0,maximum-scale=1.0,minimum-scale=1.0,user-scalable=no,target-densitydpi=medium-dpi\"></metaname=\"viewport\"content=\"width=device-width,initial-scale=1.0,maximum-scale=1.0,minimum-scale=1.0,user-scalable=no,target-densitydpi=medium-dpi\">\n",
            "<metaname=\"apple-mobile-web-app-capable\"content=\"yes\"></metaname=\"apple-mobile-web-app-capable\"content=\"yes\">\n",
            "<metaname=\"apple-mobile-web-app-status-bar-style\"content=\"black\"></metaname=\"apple-mobile-web-app-status-bar-style\"content=\"black\">\n",
            "<linkrel=\"shortcuticon\"href=\"https: 20210706104746=\"\" favicon=\"\" favicon.ico\"=\"\" images=\"\" resources=\"\" static.kbs.co.kr=\"\" www=\"\"></linkrel=\"shortcuticon\"href=\"https:>\n",
            "<linkrel=\"shortcuticon\"href=\"https: 20210706104746=\"\" favicon=\"\" favicon.png\"=\"\" images=\"\" resources=\"\" static.kbs.co.kr=\"\" www=\"\"></linkrel=\"shortcuticon\"href=\"https:>\n",
            "<linkrel=\"apple-touch-icon\"href=\"https: 20210706104746=\"\" favorite=\"\" favorite.png\"=\"\" images=\"\" resources=\"\" static.kbs.co.kr=\"\" www=\"\"></linkrel=\"apple-touch-icon\"href=\"https:>\n",
            "<metaname=\"description\"content=\"대한민국대표공영미디어kbs\"></metaname=\"description\"content=\"대한민국대표공영미디어kbs\">\n",
            "<metaname=\"keywords\"content=\"kbs,kbs,한국방송공사\"></metaname=\"keywords\"content=\"kbs,kbs,한국방송공사\">\n",
            "<metaproperty=\"og:title\"content=\"kbs\"></metaproperty=\"og:title\"content=\"kbs\">\n",
            "<metaproperty=\"og:site_name\"content=\"kbs\"></metaproperty=\"og:site_name\"content=\"kbs\">\n",
            "<metaproperty=\"og:url\"content=\"http: \"=\"\" programlist=\"\" www.kbs.co.kr=\"\"></metaproperty=\"og:url\"content=\"http:>\n",
            "<metaproperty=\"og:image\"content=\"https: 20210706104746=\"\" images=\"\" kbs_og.png\"=\"\" og=\"\" resources=\"\" static.kbs.co.kr=\"\" www=\"\"></metaproperty=\"og:image\"content=\"https:>\n",
            "<metaproperty=\"og:description\"content=\"대한민국대표공영미디어kbs\"></metaproperty=\"og:description\"content=\"대한민국대표공영미디어kbs\">\n",
            "<metaproperty=\"og:type\"content=\"website\"></metaproperty=\"og:type\"content=\"website\">\n",
            "<metaname=\"twitter:card\"content=\"summary\"></metaname=\"twitter:card\"content=\"summary\">\n",
            "<metaname=\"twitter:title\"content=\"kbs\"></metaname=\"twitter:title\"content=\"kbs\">\n",
            "<metaname=\"twitter:site\"content=\"kbs\"></metaname=\"twitter:site\"content=\"kbs\">\n",
            "<metaname=\"twitter:url\"content=\"http: \"=\"\" programlist=\"\" www.kbs.co.kr=\"\"></metaname=\"twitter:url\"content=\"http:>\n",
            "<metaname=\"twitter:image\"content=\"https: 20210706104746=\"\" images=\"\" kbs_og.png\"=\"\" og=\"\" resources=\"\" static.kbs.co.kr=\"\" www=\"\"></metaname=\"twitter:image\"content=\"https:>\n",
            "<metaname=\"twitter:description\"content=\"대한민국대표공영미디어kbs\"></metaname=\"twitter:description\"content=\"대한민국대표공영미디어kbs\">\n",
            "<!--안드로이드홈화면추가시상단주소창제거-->\n",
            "<metaname=\"mobile-web-app-capable\"content=\"yes\">\n",
            "<!--ios홈화면추가시상단주소창제거-->\n",
            "<metaname=\"apple-mobile-web-app-capable\"content=\"yes\">\n",
            "<title>프로그램전체보기|디지털KBS</title>\n",
            "<linkrel=\"stylesheet\"href=\"https: 20210706104746=\"\" css=\"\" resources=\"\" static.kbs.co.kr=\"\" style.min.css\"media=\"all\" www=\"\">\n",
            "</linkrel=\"stylesheet\"href=\"https:></metaname=\"apple-mobile-web-app-capable\"content=\"yes\"></metaname=\"mobile-web-app-capable\"content=\"yes\"></metahttp-equiv=\"content-type\"content=\"text></head>\n",
            "<body>\n",
            "<divid=\"skipnav\"class=\"skip_navi\">\n",
            "<ul>\n",
            "<li><ahref=\"#content-skiplink\">본문바로가기</ahref=\"#content-skiplink\"></li></ul></divid=\"skipnav\"class=\"skip_navi\"></body></htmllang=\"ko\">\n",
            "<li><ahref=\"http: able.kbs.co.kr\"=\"\">장애인서비스바로가기</ahref=\"http:></li>\n",
            "<li><ahref=\"#header-menu-skiplink\">메뉴바로가기</ahref=\"#header-menu-skiplink\"></li>\n",
            "<li><ahref=\"#footer\">푸터바로가기</ahref=\"#footer\"></li>\n",
            "\n",
            "<!--//#skip_navigation-->\n",
            "<divid=\"wrap\">\n",
            "<divid=\"container\"><!--[C]하단으로스크롤시class=\"sticky\"가추가됩니다.-->\n",
            "<divid=\"header\"></divid=\"header\"></divid=\"container\"></divid=\"wrap\"><!--//#header--><!--2017-02-20메뉴순서변경-->\n",
            "<divid=\"content\">\n",
            "<aid=\"content-skiplink\"class=\"blind-link\"href=\"#content-skiplink\"title=\"본문영역의키보드초점을받기위한링크입니다.이동기능은없습니다.\">이동이없는링크입니다</aid=\"content-skiplink\"class=\"blind-link\"href=\"#content-skiplink\"title=\"본문영역의키보드초점을받기위한링크입니다.이동기능은없습니다.\"></divid=\"content\">\n",
            "<h2class=\"blind\">본문영역</h2class=\"blind\">\n",
            "<divclass=\"component\">\n",
            "<divclass=\"component-boxsitemap\">\n",
            "<h4class=\"tit-a\">방영프로그램전체보기</h4class=\"tit-a\"></divclass=\"component-boxsitemap\"></divclass=\"component\">\n",
            "<divclass=\"sitemap-navi\">\n",
            "<h5class=\"blind\">채널바로가기</h5class=\"blind\"></divclass=\"sitemap-navi\">\n",
            "<ul>\n",
            "<li><ahref=\"#ch-drama\">드라마리스트바로가기</ahref=\"#ch-drama\"></li></ul>\n",
            "<li><ahref=\"#ch-enter\">예능리스트바로가기</ahref=\"#ch-enter\"></li>\n",
            "<li><ahref=\"#ch-sisa\">시사교양리스트바로가기</ahref=\"#ch-sisa\"></li>\n",
            "<li><ahref=\"#ch-1r\">1Radio리스트바로가기</ahref=\"#ch-1r\"></li>\n",
            "<li><ahref=\"#ch-happyfm\">HappyFM리스트바로가기</ahref=\"#ch-happyfm\"></li>\n",
            "<li><ahref=\"#ch-3r\">3Radio리스트바로가기</ahref=\"#ch-3r\"></li>\n",
            "<li><ahref=\"#ch-classicfm\">ClassicFM리스트바로가기</ahref=\"#ch-classicfm\"></li>\n",
            "<li><ahref=\"#ch-coolfm\">CoolFM리스트바로가기</ahref=\"#ch-coolfm\"></li>\n",
            "<li><ahref=\"#ch-han\">한민족방송리스트바로가기</ahref=\"#ch-han\"></li>\n",
            "\n",
            "\n",
            "<divclass=\"sitemap-area\">\n",
            "<dl>\n",
            "<dt><ahref=\"http: drama.kbs.co.kr\"id=\"ch-drama\" name=\"ch-drama\"><span>드라마</span></ahref=\"http:></dt></dl></divclass=\"sitemap-area\">\n",
            "<dd>\n",
            "<ulid=\"section_03\">\n",
            "</ulid=\"section_03\"></dd>\n",
            "\n",
            "<ddclass=\"sitemap-end\"><ahref=\"http: drama.kbs.co.kr=\"\" list03.html?section_id='5799&amp;api_id=144\"'>종영드라마프로그램바로가기</ahref=\"http:></ddclass=\"sitemap-end\">\n",
            "\n",
            "<dl>\n",
            "<dt><ahref=\"http: fun.kbs.co.kr\"id=\"ch-enter\" name=\"ch-enter\"><span>예능</span></ahref=\"http:></dt></dl>\n",
            "<dd>\n",
            "<ulid=\"section_04\">\n",
            "</ulid=\"section_04\"></dd>\n",
            "\n",
            "<ddclass=\"sitemap-end\"><ahref=\"http: fun.kbs.co.kr=\"\" list02.html\"=\"\">종영예능프로그램바로가기</ahref=\"http:></ddclass=\"sitemap-end\">\n",
            "\n",
            "<dl>\n",
            "<dt><ahref=\"http: culture.kbs.co.kr\"id=\"ch-sisa\" name=\"ch-sisa\"><span>시사교양</span></ahref=\"http:></dt></dl>\n",
            "<dd>\n",
            "<ulid=\"section_05\">\n",
            "</ulid=\"section_05\"></dd>\n",
            "\n",
            "<ddclass=\"sitemap-end\"><ahref=\"http: culture.kbs.co.kr=\"\" list02.html\"=\"\">종영시사교양프로그램바로가기</ahref=\"http:></ddclass=\"sitemap-end\">\n",
            "\n",
            "<dl>\n",
            "<dt><ahref=\"http: \"id=\"ch-1r\" name=\"ch-1r\" radio.kbs.co.kr=\"\"><span>1Radio</span></ahref=\"http:></dt></dl>\n",
            "<dd>\n",
            "<ulid=\"section_radio_21\">\n",
            "</ulid=\"section_radio_21\"></dd>\n",
            "\n",
            "\n",
            "<dlclass=\"no-line\">\n",
            "<dt><ahref=\"http: \"id=\"ch-happyfm\" name=\"ch-happyfm\" radio.kbs.co.kr=\"\"><span>HappyFM</span></ahref=\"http:></dt></dlclass=\"no-line\">\n",
            "<dd>\n",
            "<ulid=\"section_radio_22\">\n",
            "</ulid=\"section_radio_22\"></dd>\n",
            "\n",
            "\n",
            "<dlclass=\"no-line\">\n",
            "<dt><ahref=\"http: \"id=\"ch-3r\" name=\"ch-3r\" radio.kbs.co.kr=\"\"><span>3Radio</span></ahref=\"http:></dt></dlclass=\"no-line\">\n",
            "<dd>\n",
            "<ulid=\"section_radio_23\">\n",
            "</ulid=\"section_radio_23\"></dd>\n",
            "\n",
            "\n",
            "<dlclass=\"no-line\">\n",
            "<dt><ahref=\"http: \"id=\"ch-classicfm\" name=\"ch-classicfm\" radio.kbs.co.kr=\"\"><span>ClassicFM</span></ahref=\"http:></dt></dlclass=\"no-line\">\n",
            "<dd>\n",
            "<ulid=\"section_radio_24\">\n",
            "</ulid=\"section_radio_24\"></dd>\n",
            "\n",
            "\n",
            "<dlclass=\"no-line\">\n",
            "<dt><ahref=\"http: \"id=\"ch-coolfm\" name=\"ch-coolfm\" radio.kbs.co.kr=\"\"><span>CoolFM</span></ahref=\"http:></dt></dlclass=\"no-line\">\n",
            "<dd>\n",
            "<ulid=\"section_radio_25\">\n",
            "</ulid=\"section_radio_25\"></dd>\n",
            "\n",
            "\n",
            "<dlclass=\"no-line\">\n",
            "<dt><ahref=\"http: \"id=\"ch-han\" name=\"ch-han\" radio.kbs.co.kr=\"\"><span>한민족방송</span></ahref=\"http:></dt></dlclass=\"no-line\">\n",
            "<dd>\n",
            "<ulid=\"section_radio_26\">\n",
            "</ulid=\"section_radio_26\"></dd>\n",
            "\n",
            "<ddclass=\"sitemap-end\"><ahref=\"http: list05.html?section_id='4460&amp;api_id=144\"' radio.kbs.co.kr=\"\">종영라디오프로그램바로가기</ahref=\"http:></ddclass=\"sitemap-end\">\n",
            "\n",
            "\n",
            "\n",
            "<!--//.component-->\n",
            "<!--//#content-->\n",
            "<divid=\"footer\"class=\"footer\"></divid=\"footer\"class=\"footer\"><!--//#footer-->\n",
            "<!--//#container-->\n",
            "<!--//#wrap-->\n",
            "<scriptsrc=\"https: 20210706104746=\"\" js=\"\" resources=\"\" script.min.js\"=\"\" static.kbs.co.kr=\"\" www=\"\"></scriptsrc=\"https:>\n",
            "<scripttype=\"text javascript\"src=\"https://static.kbs.co.kr/www/20210706104746/resources/js/kbs/programlist/programlist.js\"></scripttype=\"text>\n",
            "\n",
            "\n",
            "\n"
          ],
          "name": "stdout"
        }
      ]
    },
    {
      "cell_type": "code",
      "metadata": {
        "id": "tc3TJbpxyn4e"
      },
      "source": [
        ""
      ],
      "execution_count": null,
      "outputs": []
    }
  ]
}