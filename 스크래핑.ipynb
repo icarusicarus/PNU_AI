{
  "nbformat": 4,
  "nbformat_minor": 0,
  "metadata": {
    "colab": {
      "name": "Untitled1.ipynb",
      "provenance": [],
      "toc_visible": true
    },
    "kernelspec": {
      "name": "python3",
      "display_name": "Python 3"
    },
    "language_info": {
      "name": "python"
    }
  },
  "cells": [
    {
      "cell_type": "markdown",
      "metadata": {
        "id": "AbZ1XdvCweiv"
      },
      "source": [
        "팀 6팀\n",
        "\n",
        "주제 : 지상파 드라마 시청률 순위\n",
        "\n",
        "선정이유 : 영상물과 다양한 콘텐츠들을 제공해오던 방송사들은 페이스북, 넷플릭스, 유튜브와 같은 여러 플랫폼에 의해 방송을 보는 시청자의 수가 점점 감소하고 있는 추세입니다. 방송국은 방송이 시작하기전의 광고를 재생하여 얻은 광고료, 협찬 등으로 회사의 이익을 창출합니다. 하지만 방송을 보는 수요가 줄어들고 시청자 수가 줄어들어 광고와 협찬을 하지만 예전만큼의 효과를 보지 못하고 광고주들이 손해를 보는 경우가 발생합니다. 그래서 우리 팀은 이러한 손해를 줄이기 위해 주간 별로 어떤 방송국에서 하는 어떤 프로그램이 가장 시청자 수가 많은지를 알아보고 효률적으로 광고를 의뢰하도록 돕기 위해 이 주제를 선정하였습니다.\n",
        "\n",
        "자료 설명 : 닐슨 코리아에서 제공하는 지상파 드라마의 프로그램 명, 방송사, 시청률과 순위 정보(2021.7.9일 기준)를 스크래핑하였다."
      ]
    },
    {
      "cell_type": "markdown",
      "metadata": {
        "id": "JhtYLPF6wkkY"
      },
      "source": [
        "# 소스\n"
      ]
    },
    {
      "cell_type": "code",
      "metadata": {
        "id": "kKas5yrGwX8O"
      },
      "source": [
        "import requests\n",
        "from bs4 import BeautifulSoup\n",
        "\n",
        "url = 'https://search.naver.com/search.naver?where=nexearch&sm=top_hty&fbm=1&ie=utf8&query=%EB%93%9C%EB%9D%BC%EB%A7%88+%EC%8B%9C%EC%B2%AD%EB%A5%A0'\n",
        "response = requests.get(url)\n",
        "soup = BeautifulSoup(response.text, 'html.parser')\n",
        "\n",
        "table = soup.find('table').find('tbody').find_all('td')\n",
        "check=0\n",
        "for idx, t in enumerate(table):\n",
        "    print(f\"{t.find('p').text}\",end=' ')\n",
        "    check+=1;\n",
        "    if check%4==0: print(' ')"
      ],
      "execution_count": null,
      "outputs": []
    }
  ]
}
