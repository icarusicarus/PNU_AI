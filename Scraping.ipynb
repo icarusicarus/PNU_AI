{
  "nbformat": 4,
  "nbformat_minor": 0,
  "metadata": {
    "colab": {
      "name": "Scraping.ipynb",
      "provenance": [],
      "authorship_tag": "ABX9TyO5y9E4kLHeg0mDeIVa7RVj",
      "include_colab_link": true
    },
    "kernelspec": {
      "name": "python3",
      "display_name": "Python 3"
    },
    "language_info": {
      "name": "python"
    }
  },
  "cells": [
    {
      "cell_type": "markdown",
      "metadata": {
        "id": "view-in-github",
        "colab_type": "text"
      },
      "source": [
        "<a href=\"https://colab.research.google.com/github/icaruswithoutwings/PNU_AI/blob/main/Scraping.ipynb\" target=\"_parent\"><img src=\"https://colab.research.google.com/assets/colab-badge.svg\" alt=\"Open In Colab\"/></a>"
      ]
    },
    {
      "cell_type": "markdown",
      "metadata": {
        "id": "4TflfuYmLvid"
      },
      "source": [
        "6팀\n",
        "\n",
        "주제:\n",
        "\n",
        "주제선정동기:\n",
        "\n",
        "수집자료:\n",
        "\n",
        "\n"
      ]
    }
  ]
}